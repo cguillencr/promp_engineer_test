{
 "cells": [
  {
   "cell_type": "markdown",
   "id": "fb1d3d42-0af3-43d3-a11a-de4e83a70730",
   "metadata": {},
   "source": []
  },
  {
   "cell_type": "markdown",
   "id": "dd6794e2",
   "metadata": {},
   "source": [
    "## My input: \n",
    "\n",
    "Create two persona sample for desing thinking workshop. Sandy is a mother who works 8hours per week and Cris who is a soccer player. In the workshop we are goingo to design a mobile app for purchase insurances.\n"
   ]
  },
  {
   "cell_type": "markdown",
   "id": "72c19d0d",
   "metadata": {},
   "source": [
    "## output\n",
    "\n",
    "Personas are fictional characters that represent your target audience, their needs, and goals. They help you understand who your users are and what motivates them. Here are two example personas for a design thinking workshop on a mobile app for purchasing insurance:\n",
    "\n",
    "Sandy, a mother who works 8 hours per week, wants to be able to easily find and compare different types of insurance coverage options. She also wants to be able to easily manage her insurance coverage from one place, without having to call or visit a physical location.\n",
    "\n",
    "Cris, a professional soccer player, wants to be able to easily find and purchase coverage for his injuries and illnesses, without having to rely on traditional methods such as seeing a doctor or calling a healthcare provider. He also wants to be able to easily track his insurance coverage and renew it when needed.\n",
    "\n",
    "![Watson Content Assistant output](Watson_Content_Assistant.png)"
   ]
  }
 ],
 "metadata": {
  "kernelspec": {
   "display_name": "Python 3 (ipykernel)",
   "language": "python",
   "name": "python3"
  },
  "language_info": {
   "codemirror_mode": {
    "name": "ipython",
    "version": 3
   },
   "file_extension": ".py",
   "mimetype": "text/x-python",
   "name": "python",
   "nbconvert_exporter": "python",
   "pygments_lexer": "ipython3",
   "version": "3.12.2"
  }
 },
 "nbformat": 4,
 "nbformat_minor": 5
}
